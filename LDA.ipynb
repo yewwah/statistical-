{
 "cells": [
  {
   "cell_type": "code",
   "execution_count": 26,
   "metadata": {},
   "outputs": [],
   "source": [
    "import keras\n",
    "import numpy as np\n",
    "from keras import datasets\n",
    "from numpy.linalg import eig \n",
    "from numpy.linalg import pinv\n",
    "import matplotlib.pyplot as plt\n",
    "from numpy import cov\n",
    "%matplotlib inline"
   ]
  },
  {
   "cell_type": "code",
   "execution_count": 2,
   "metadata": {},
   "outputs": [],
   "source": [
    "from keras.datasets import mnist\n",
    "\n",
    "(x_train, y_train), (x_test, y_test) = mnist.load_data()\n",
    "x_train = x_train.reshape(60000, 28*28)\n"
   ]
  },
  {
   "cell_type": "code",
   "execution_count": 3,
   "metadata": {},
   "outputs": [],
   "source": [
    "x_0 = x_train[y_train == 0]\n",
    "x_1 = x_train[y_train == 1]\n",
    "mean_0 = np.mean(x_0, axis=0)\n",
    "mean_1 = np.mean(x_1, axis =0)\n"
   ]
  },
  {
   "cell_type": "markdown",
   "metadata": {},
   "source": [
    "# splitting data "
   ]
  },
  {
   "cell_type": "code",
   "execution_count": 4,
   "metadata": {},
   "outputs": [],
   "source": [
    "scatter_mat = np.zeros((784, 784))"
   ]
  },
  {
   "cell_type": "code",
   "execution_count": 30,
   "metadata": {},
   "outputs": [],
   "source": [
    "# class 0 \n",
    "mean_0_col = mean_0.reshape((mean_0.shape[0], 1))\n",
    "scatter_mat = np.zeros((784, 784))\n",
    "\n",
    "class_sc = np.zeros((784,784))\n",
    "for row in x_0:\n",
    "    row_col = row.reshape((row.shape[0], 1))\n",
    "    scatter_mat += (row_col-mean_0_col).dot((row_col-mean_0_col).T)\n",
    "class_sc += scatter_mat\n",
    "\n",
    "scatter_mat = np.zeros((784, 784))\n",
    "mean_1_col = mean_1.reshape((mean_1.shape[0], 1))\n",
    "for row_2 in x_1:\n",
    "    row_col = row.reshape((row_2.shape[0], 1))\n",
    "    scatter_mat += (row_col-mean_1_col).dot((row_col-mean_1_col).T)\n",
    "class_sc += scatter_mat"
   ]
  },
  {
   "cell_type": "code",
   "execution_count": 31,
   "metadata": {},
   "outputs": [],
   "source": [
    "overall_mean = np.mean(x_train, axis = 0)\n",
    "scatter_btw = np.zeros((784, 784))"
   ]
  },
  {
   "cell_type": "code",
   "execution_count": 32,
   "metadata": {},
   "outputs": [],
   "source": [
    "overall_mean_vec = overall_mean.reshape(784, 1) # make column vector\n",
    "mean_0_col_vec = mean_0.reshape((784,1))\n",
    "scatter_btw = len(x_0) * (mean_0_col_vec - overall_mean_vec).dot((mean_0_col_vec - overall_mean_vec).T)\n",
    "\n",
    "mean_1_col_vec = mean_1.reshape((784,1))\n",
    "scatter_btw += len(x_1) * (mean_1_col_vec - overall_mean_vec).dot((mean_1_col_vec - overall_mean_vec).T)\n"
   ]
  },
  {
   "cell_type": "code",
   "execution_count": 33,
   "metadata": {},
   "outputs": [],
   "source": [
    "eig_vals, eig_vecs = np.linalg.eig(pinv(class_sc).dot(scatter_btw))\n",
    "\n"
   ]
  },
  {
   "cell_type": "code",
   "execution_count": null,
   "metadata": {},
   "outputs": [],
   "source": []
  }
 ],
 "metadata": {
  "kernelspec": {
   "display_name": "Python 3",
   "language": "python",
   "name": "python3"
  },
  "language_info": {
   "codemirror_mode": {
    "name": "ipython",
    "version": 3
   },
   "file_extension": ".py",
   "mimetype": "text/x-python",
   "name": "python",
   "nbconvert_exporter": "python",
   "pygments_lexer": "ipython3",
   "version": "3.6.5"
  }
 },
 "nbformat": 4,
 "nbformat_minor": 2
}
