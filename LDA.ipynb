{
 "cells": [
  {
   "cell_type": "code",
   "execution_count": 27,
   "metadata": {},
   "outputs": [],
   "source": [
    "import keras\n",
    "import numpy as np\n",
    "from keras import datasets\n",
    "from numpy.linalg import eig \n",
    "from numpy.linalg import pinv, inv\n",
    "from sklearn.metrics import accuracy_score\n",
    "import matplotlib.pyplot as plt\n",
    "from numpy import cov\n",
    "from sklearn.neighbors import KNeighborsClassifier\n",
    "%matplotlib inline"
   ]
  },
  {
   "cell_type": "code",
   "execution_count": 2,
   "metadata": {},
   "outputs": [],
   "source": [
    "from keras.datasets import mnist\n",
    "\n",
    "(x_train, y_train), (x_test, y_test) = mnist.load_data()\n",
    "x_train = x_train.reshape(60000, 28*28)\n"
   ]
  },
  {
   "cell_type": "code",
   "execution_count": 21,
   "metadata": {},
   "outputs": [],
   "source": [
    "mean_vectors = []\n",
    "for cl in range(10):\n",
    "    mean_vectors.append(np.mean(x_train[y_train==cl], axis=0))\n",
    "\n",
    "scatter_mat = np.zeros((784, 784))\n",
    "for cl,mv in zip(range(10), mean_vectors):\n",
    "    class_sc_mat = np.zeros((784, 784))                  # scatter matrix for every class\n",
    "    for row in x_train[y_train == cl]:\n",
    "        row, mv = row.reshape(784,1), mv.reshape(784,1) # make column vectors\n",
    "        class_sc_mat += (row-mv).dot((row-mv).T)\n",
    "    scatter_mat += class_sc_mat                             # sum class scatter matrices"
   ]
  },
  {
   "cell_type": "markdown",
   "metadata": {},
   "source": [
    "# splitting data "
   ]
  },
  {
   "cell_type": "code",
   "execution_count": 6,
   "metadata": {},
   "outputs": [],
   "source": [
    "overall_mean = np.mean(x_train, axis = 0)\n",
    "scatter_btw = np.zeros((784, 784))"
   ]
  },
  {
   "cell_type": "code",
   "execution_count": 24,
   "metadata": {},
   "outputs": [],
   "source": [
    "scatter_btw = np.zeros((784,784))\n",
    "for i, mean_vec in enumerate(mean_vectors):  \n",
    "    n = x_train[y_train==i+1,:].shape[0]\n",
    "    mean_vec = mean_vec.reshape(784,1) # make column vector\n",
    "    overall_mean = overall_mean.reshape(784,1) # make column vector\n",
    "    scatter_btw += n * (mean_vec - overall_mean).dot((mean_vec - overall_mean).T)"
   ]
  },
  {
   "cell_type": "code",
   "execution_count": 29,
   "metadata": {},
   "outputs": [],
   "source": [
    "eig_vals, eig_vecs = np.linalg.eig(pinv(scatter_mat).dot(scatter_btw))\n",
    "\n",
    "# creating the eig val pairs\n",
    "eig_pairs = [(np.abs(eig_vals[i]), eig_vecs[:,i]) for i in range(len(eig_vals))]\n",
    "\n",
    "# Sort the (eigenvalue, eigenvector) tuples from high to low\n",
    "eig_pairs.sort(key=lambda x: x[0], reverse=True)"
   ]
  },
  {
   "cell_type": "code",
   "execution_count": 30,
   "metadata": {},
   "outputs": [],
   "source": [
    "eig_val_sorted = np.array([x[0] for x in eig_pairs])\n",
    "eig_vec_sorted = np.array([x[1] for x in eig_pairs]).T"
   ]
  },
  {
   "cell_type": "code",
   "execution_count": 31,
   "metadata": {},
   "outputs": [
    {
     "data": {
      "text/plain": [
       "(784,)"
      ]
     },
     "execution_count": 31,
     "metadata": {},
     "output_type": "execute_result"
    }
   ],
   "source": [
    "eig_vals.shape"
   ]
  },
  {
   "cell_type": "code",
   "execution_count": 33,
   "metadata": {},
   "outputs": [
    {
     "name": "stderr",
     "output_type": "stream",
     "text": [
      "/usr/local/lib/python3.5/dist-packages/numpy/core/numeric.py:492: ComplexWarning: Casting complex values to real discards the imaginary part\n",
      "  return array(a, dtype, copy=False, order=order)\n",
      "/usr/local/lib/python3.5/dist-packages/sklearn/utils/validation.py:433: ComplexWarning: Casting complex values to real discards the imaginary part\n",
      "  array = np.array(array, dtype=dtype, order=order, copy=copy)\n"
     ]
    },
    {
     "name": "stdout",
     "output_type": "stream",
     "text": [
      "0.5776\n",
      "0.7185\n",
      "0.9127\n"
     ]
    }
   ],
   "source": [
    "dimensions = [2,3,9]\n",
    "neigh = KNeighborsClassifier(n_neighbors=5)\n",
    "for dim in dimensions:\n",
    "    reduced = x_train.dot(eig_vec_sorted[:,:dim])\n",
    "    neigh.fit(reduced, y_train)\n",
    "    x_test_cleaned = x_test.reshape((10000, 28*28))\n",
    "    x_test_proj = x_test_cleaned.dot(eig_vec_sorted[:, :dim])\n",
    "    pred = neigh.predict(x_test_proj)\n",
    "    print(accuracy_score(y_test, pred))"
   ]
  },
  {
   "cell_type": "code",
   "execution_count": null,
   "metadata": {},
   "outputs": [],
   "source": []
  }
 ],
 "metadata": {
  "kernelspec": {
   "display_name": "Python 3",
   "language": "python",
   "name": "python3"
  },
  "language_info": {
   "codemirror_mode": {
    "name": "ipython",
    "version": 3
   },
   "file_extension": ".py",
   "mimetype": "text/x-python",
   "name": "python",
   "nbconvert_exporter": "python",
   "pygments_lexer": "ipython3",
   "version": "3.5.2"
  }
 },
 "nbformat": 4,
 "nbformat_minor": 2
}
