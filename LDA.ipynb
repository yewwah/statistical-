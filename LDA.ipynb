{
 "cells": [
  {
   "cell_type": "code",
   "execution_count": 17,
   "metadata": {},
   "outputs": [],
   "source": [
    "import keras\n",
    "import numpy as np\n",
    "from keras import datasets\n",
    "from numpy.linalg import eig \n",
    "from numpy.linalg import pinv\n",
    "from sklearn.metrics import accuracy_score\n",
    "import matplotlib.pyplot as plt\n",
    "from numpy import cov\n",
    "from sklearn.neighbors import KNeighborsClassifier\n",
    "%matplotlib inline"
   ]
  },
  {
   "cell_type": "code",
   "execution_count": 3,
   "metadata": {},
   "outputs": [],
   "source": [
    "from keras.datasets import mnist\n",
    "\n",
    "(x_train, y_train), (x_test, y_test) = mnist.load_data()\n",
    "x_train = x_train.reshape(60000, 28*28)\n"
   ]
  },
  {
   "cell_type": "code",
   "execution_count": 4,
   "metadata": {},
   "outputs": [],
   "source": [
    "x_0 = x_train[y_train == 0]\n",
    "x_1 = x_train[y_train == 1]\n",
    "mean_0 = np.mean(x_0, axis=0)\n",
    "mean_1 = np.mean(x_1, axis =0)\n"
   ]
  },
  {
   "cell_type": "markdown",
   "metadata": {},
   "source": [
    "# splitting data "
   ]
  },
  {
   "cell_type": "code",
   "execution_count": 5,
   "metadata": {},
   "outputs": [],
   "source": [
    "scatter_mat = np.zeros((784, 784))"
   ]
  },
  {
   "cell_type": "code",
   "execution_count": 6,
   "metadata": {},
   "outputs": [],
   "source": [
    "# class 0 \n",
    "mean_0_col = mean_0.reshape((mean_0.shape[0], 1))\n",
    "scatter_mat = np.zeros((784, 784))\n",
    "\n",
    "class_sc = np.zeros((784,784))\n",
    "for row in x_0:\n",
    "    row_col = row.reshape((row.shape[0], 1))\n",
    "    scatter_mat += (row_col-mean_0_col).dot((row_col-mean_0_col).T)\n",
    "class_sc += scatter_mat\n",
    "\n",
    "scatter_mat = np.zeros((784, 784))\n",
    "mean_1_col = mean_1.reshape((mean_1.shape[0], 1))\n",
    "for row_2 in x_1:\n",
    "    row_col = row.reshape((row_2.shape[0], 1))\n",
    "    scatter_mat += (row_col-mean_1_col).dot((row_col-mean_1_col).T)\n",
    "class_sc += scatter_mat"
   ]
  },
  {
   "cell_type": "code",
   "execution_count": 7,
   "metadata": {},
   "outputs": [],
   "source": [
    "overall_mean = np.mean(x_train, axis = 0)\n",
    "scatter_btw = np.zeros((784, 784))"
   ]
  },
  {
   "cell_type": "code",
   "execution_count": 8,
   "metadata": {},
   "outputs": [],
   "source": [
    "overall_mean_vec = overall_mean.reshape(784, 1) # make column vector\n",
    "mean_0_col_vec = mean_0.reshape((784,1))\n",
    "scatter_btw = len(x_0) * (mean_0_col_vec - overall_mean_vec).dot((mean_0_col_vec - overall_mean_vec).T)\n",
    "\n",
    "mean_1_col_vec = mean_1.reshape((784,1))\n",
    "scatter_btw += len(x_1) * (mean_1_col_vec - overall_mean_vec).dot((mean_1_col_vec - overall_mean_vec).T)\n"
   ]
  },
  {
   "cell_type": "code",
   "execution_count": 9,
   "metadata": {},
   "outputs": [],
   "source": [
    "eig_vals, eig_vecs = np.linalg.eig(pinv(class_sc).dot(scatter_btw))\n",
    "\n"
   ]
  },
  {
   "cell_type": "code",
   "execution_count": 10,
   "metadata": {},
   "outputs": [
    {
     "data": {
      "text/plain": [
       "(784,)"
      ]
     },
     "execution_count": 10,
     "metadata": {},
     "output_type": "execute_result"
    }
   ],
   "source": [
    "eig_vals.shape"
   ]
  },
  {
   "cell_type": "code",
   "execution_count": 18,
   "metadata": {},
   "outputs": [
    {
     "name": "stderr",
     "output_type": "stream",
     "text": [
      "/usr/local/lib/python3.5/dist-packages/numpy/core/numeric.py:492: ComplexWarning: Casting complex values to real discards the imaginary part\n",
      "  return array(a, dtype, copy=False, order=order)\n",
      "/usr/local/lib/python3.5/dist-packages/sklearn/utils/validation.py:433: ComplexWarning: Casting complex values to real discards the imaginary part\n",
      "  array = np.array(array, dtype=dtype, order=order, copy=copy)\n"
     ]
    },
    {
     "name": "stdout",
     "output_type": "stream",
     "text": [
      "0.101\n",
      "0.101\n",
      "0.101\n"
     ]
    }
   ],
   "source": [
    "dimensions = [2,3,9]\n",
    "neigh = KNeighborsClassifier(n_neighbors=3)\n",
    "for dim in dimensions:\n",
    "    reduced = x_train.dot(eig_vecs[:,:dim])\n",
    "    neigh.fit(reduced, y_train)\n",
    "    x_test_cleaned = x_test.reshape((10000, 28*28))\n",
    "    x_test_proj = x_test_cleaned.dot(eig_vecs[:, :dim])\n",
    "    pred = neigh.predict(x_test_proj)\n",
    "    print(accuracy_score(y_test, pred))"
   ]
  },
  {
   "cell_type": "code",
   "execution_count": null,
   "metadata": {},
   "outputs": [],
   "source": []
  }
 ],
 "metadata": {
  "kernelspec": {
   "display_name": "Python 3",
   "language": "python",
   "name": "python3"
  },
  "language_info": {
   "codemirror_mode": {
    "name": "ipython",
    "version": 3
   },
   "file_extension": ".py",
   "mimetype": "text/x-python",
   "name": "python",
   "nbconvert_exporter": "python",
   "pygments_lexer": "ipython3",
   "version": "3.5.2"
  }
 },
 "nbformat": 4,
 "nbformat_minor": 2
}
