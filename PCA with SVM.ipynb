{
 "cells": [
  {
   "cell_type": "code",
   "execution_count": 1,
   "metadata": {},
   "outputs": [
    {
     "name": "stderr",
     "output_type": "stream",
     "text": [
      "/usr/local/lib/python3.5/dist-packages/h5py/__init__.py:36: FutureWarning: Conversion of the second argument of issubdtype from `float` to `np.floating` is deprecated. In future, it will be treated as `np.float64 == np.dtype(float).type`.\n",
      "  from ._conv import register_converters as _register_converters\n",
      "Using TensorFlow backend.\n"
     ]
    }
   ],
   "source": [
    "import keras\n",
    "import numpy as np\n",
    "from keras import datasets\n",
    "from numpy.linalg import eig\n",
    "import matplotlib.pyplot as plt\n",
    "from numpy import cov\n",
    "from keras.datasets import mnist\n",
    "from sklearn.metrics import accuracy_score\n",
    "from sklearn.svm import SVC\n",
    "from sklearn.svm import LinearSVC"
   ]
  },
  {
   "cell_type": "code",
   "execution_count": 2,
   "metadata": {},
   "outputs": [],
   "source": [
    "def reduce_dimensions_pca(x_train):\n",
    "    mean = np.mean(x_train, axis=0)\n",
    "    centered = x_train - mean\n",
    "\n",
    "    cov_mat = cov(centered.T)\n",
    "    eig_val, eig_vec = eig(cov_mat)\n",
    "    eig_pairs = [(np.abs(eig_val[i]), eig_vec[:, i]) for i in range(len(eig_val))]\n",
    "\n",
    "    # Sort the (eigenvalue, eigenvector) tuples from high to low\n",
    "    eig_pairs.sort(key=lambda x: x[0], reverse=True)\n",
    "    eig_val_sorted = np.array([x[0] for x in eig_pairs])\n",
    "    eig_vec_sorted = np.array([x[1] for x in eig_pairs]).T\n",
    "    return mean, eig_val_sorted, eig_vec_sorted"
   ]
  },
  {
   "cell_type": "code",
   "execution_count": 3,
   "metadata": {},
   "outputs": [],
   "source": [
    "(x_train, y_train), (x_test, y_test) = mnist.load_data()\n",
    "x_train = x_train.reshape(60000, 28*28)\n",
    "x_test = x_test.reshape((10000, 28*28))\n",
    "x_train = x_train/ 255\n",
    "x_test = x_test / 255\n",
    "mean, eig_val, eig_vec = reduce_dimensions_pca(x_train)"
   ]
  },
  {
   "cell_type": "code",
   "execution_count": 4,
   "metadata": {},
   "outputs": [
    {
     "name": "stdout",
     "output_type": "stream",
     "text": [
      "c_param : 0.01 , dimensions 40, acc 0.8939\n",
      "c_param : 0.1 , dimensions 40, acc 0.8946\n",
      "c_param : 1 , dimensions 40, acc 0.895\n",
      "c_param : 10 , dimensions 40, acc 0.893\n",
      "c_param : 0.01 , dimensions 80, acc 0.9091\n",
      "c_param : 0.1 , dimensions 80, acc 0.9102\n",
      "c_param : 1 , dimensions 80, acc 0.9103\n",
      "c_param : 10 , dimensions 80, acc 0.9012\n",
      "c_param : 0.01 , dimensions 200, acc 0.9157\n",
      "c_param : 0.1 , dimensions 200, acc 0.9183\n",
      "c_param : 1 , dimensions 200, acc 0.9187\n",
      "c_param : 10 , dimensions 200, acc 0.9123\n"
     ]
    }
   ],
   "source": [
    "dimensions = [40, 80, 200]\n",
    "c_param = [0.01 , 0.1 , 1, 10]\n",
    "for dim in dimensions:\n",
    "    for param in c_param:\n",
    "        clf = LinearSVC(random_state=0, tol=1e-5, C=param)\n",
    "        x_train_new = x_train - mean\n",
    "        reduced = x_train_new.dot(eig_vec[:,:dim])\n",
    "        clf.fit(reduced, y_train)\n",
    "        x_test_new = x_test - mean\n",
    "        x_test_proj = x_test_new.dot(eig_vec[:, :dim])\n",
    "        pred = clf.predict(x_test_proj)\n",
    "        print('c_param : {0} , dimensions {1}, acc {2}'.format(param, dim, accuracy_score(y_test, pred)))"
   ]
  },
  {
   "cell_type": "markdown",
   "metadata": {},
   "source": [
    "# rbf kernel"
   ]
  },
  {
   "cell_type": "code",
   "execution_count": 5,
   "metadata": {},
   "outputs": [
    {
     "name": "stdout",
     "output_type": "stream",
     "text": [
      "c_param : 0.01 , dimensions 40, acc 0.7625\n",
      "c_param : 0.1 , dimensions 40, acc 0.9615\n",
      "c_param : 1 , dimensions 40, acc 0.9821\n",
      "c_param : 10 , dimensions 40, acc 0.9825\n",
      "c_param : 0.01 , dimensions 80, acc 0.3489\n",
      "c_param : 0.1 , dimensions 80, acc 0.9027\n",
      "c_param : 1 , dimensions 80, acc 0.9783\n",
      "c_param : 10 , dimensions 80, acc 0.9784\n",
      "c_param : 0.01 , dimensions 200, acc 0.2837\n",
      "c_param : 0.1 , dimensions 200, acc 0.7827\n",
      "c_param : 1 , dimensions 200, acc 0.9673\n",
      "c_param : 10 , dimensions 200, acc 0.9681\n"
     ]
    }
   ],
   "source": [
    "dimensions = [40, 80, 200]\n",
    "c_param = [0.01 , 0.1 , 1, 10]\n",
    "for dim in dimensions:\n",
    "    for param in c_param:\n",
    "        clf = SVC(random_state=0, tol=1e-5, C=param, gamma = 0.1)\n",
    "        x_train_new = x_train - mean\n",
    "        reduced = x_train_new.dot(eig_vec[:,:dim])\n",
    "        clf.fit(reduced, y_train)\n",
    "        x_test_new = x_test - mean\n",
    "        x_test_proj = x_test_new.dot(eig_vec[:, :dim])\n",
    "        pred = clf.predict(x_test_proj)\n",
    "        print('c_param : {0} , dimensions {1}, acc {2}'.format(param, dim, accuracy_score(y_test, pred)))"
   ]
  },
  {
   "cell_type": "code",
   "execution_count": 6,
   "metadata": {},
   "outputs": [
    {
     "name": "stdout",
     "output_type": "stream",
     "text": [
      "c_param : 5 , dimensions 40, acc 0.9861\n",
      "c_param : 5 , dimensions 80, acc 0.9867\n",
      "c_param : 5 , dimensions 200, acc 0.9846\n"
     ]
    }
   ],
   "source": [
    "# Best results\n",
    "dimensions = [40, 80, 200]\n",
    "c_param = [5]\n",
    "for dim in dimensions:\n",
    "    for param in c_param:\n",
    "        clf = SVC(random_state=0, tol=1e-5, C=param, gamma = 0.05)\n",
    "        x_train_new = x_train - mean\n",
    "        reduced = x_train_new.dot(eig_vec[:,:dim])\n",
    "        clf.fit(reduced, y_train)\n",
    "        x_test_new = x_test - mean\n",
    "        x_test_proj = x_test_new.dot(eig_vec[:, :dim])\n",
    "        pred = clf.predict(x_test_proj)\n",
    "        print('c_param : {0} , dimensions {1}, acc {2}'.format(param, dim, accuracy_score(y_test, pred)))"
   ]
  },
  {
   "cell_type": "code",
   "execution_count": null,
   "metadata": {},
   "outputs": [],
   "source": []
  }
 ],
 "metadata": {
  "kernelspec": {
   "display_name": "Python 3",
   "language": "python",
   "name": "python3"
  },
  "language_info": {
   "codemirror_mode": {
    "name": "ipython",
    "version": 3
   },
   "file_extension": ".py",
   "mimetype": "text/x-python",
   "name": "python",
   "nbconvert_exporter": "python",
   "pygments_lexer": "ipython3",
   "version": "3.5.2"
  }
 },
 "nbformat": 4,
 "nbformat_minor": 2
}
