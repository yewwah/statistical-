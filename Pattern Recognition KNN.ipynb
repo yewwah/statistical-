{
 "cells": [
  {
   "cell_type": "code",
   "execution_count": 51,
   "metadata": {
    "collapsed": true
   },
   "outputs": [],
   "source": [
    "import scipy.io as sio\n",
    "import pandas as pd\n",
    "import numpy as np\n",
    "from sklearn import preprocessing\n",
    "from sklearn.naive_bayes import GaussianNB\n",
    "from sklearn.metrics import accuracy_score"
   ]
  },
  {
   "cell_type": "code",
   "execution_count": 52,
   "metadata": {
    "collapsed": false
   },
   "outputs": [],
   "source": [
    "load = sio.loadmat('D:\\Yew Wah\\Downloads\\spamData.mat')"
   ]
  },
  {
   "cell_type": "markdown",
   "metadata": {},
   "source": [
    "# Building train set"
   ]
  },
  {
   "cell_type": "code",
   "execution_count": 53,
   "metadata": {
    "collapsed": false
   },
   "outputs": [],
   "source": [
    "x = load['Xtrain']\n",
    "min_max_scaler = preprocessing.StandardScaler()\n",
    "scaler = min_max_scaler.fit(x)\n",
    "x_scaled = scaler.transform(x)\n",
    "labels = load['ytrain']"
   ]
  },
  {
   "cell_type": "code",
   "execution_count": 58,
   "metadata": {
    "collapsed": false
   },
   "outputs": [
    {
     "data": {
      "text/plain": [
       "1833"
      ]
     },
     "execution_count": 58,
     "metadata": {},
     "output_type": "execute_result"
    }
   ],
   "source": [
    "y = load['ytrain']\n",
    "len(y[y== 0])"
   ]
  },
  {
   "cell_type": "code",
   "execution_count": 59,
   "metadata": {
    "collapsed": false
   },
   "outputs": [
    {
     "data": {
      "text/plain": [
       "0.11979166666666663"
      ]
     },
     "execution_count": 59,
     "metadata": {},
     "output_type": "execute_result"
    }
   ],
   "source": [
    "1 - 0.8802083333333334"
   ]
  },
  {
   "cell_type": "code",
   "execution_count": 7,
   "metadata": {
    "collapsed": false
   },
   "outputs": [
    {
     "data": {
      "text/plain": [
       "array([[-0.1119685 , -0.17172773, -0.11950585, ..., -0.10338122,\n",
       "        -0.15317142,  1.68293105],\n",
       "       [-0.34647496, -0.17172773, -0.5696639 , ..., -0.1071547 ,\n",
       "        -0.22632329, -0.43277641],\n",
       "       [-0.34647496, -0.17172773,  1.02635102, ..., -0.10951695,\n",
       "        -0.22632329, -0.4121431 ],\n",
       "       ..., \n",
       "       [-0.34647496, -0.17172773,  3.13390919, ..., -0.11485504,\n",
       "        -0.20803532, -0.41849181],\n",
       "       [-0.34647496, -0.17172773,  4.66853893, ..., -0.1070013 ,\n",
       "        -0.21260732, -0.42484052],\n",
       "       [-0.34647496, -0.17172773, -0.5696639 , ..., -0.1120326 ,\n",
       "        -0.21717931, -0.3280227 ]])"
      ]
     },
     "execution_count": 7,
     "metadata": {},
     "output_type": "execute_result"
    }
   ],
   "source": [
    "x_scaled"
   ]
  },
  {
   "cell_type": "code",
   "execution_count": 13,
   "metadata": {
    "collapsed": false
   },
   "outputs": [],
   "source": [
    "test = load['Xtest']"
   ]
  },
  {
   "cell_type": "code",
   "execution_count": 14,
   "metadata": {
    "collapsed": false
   },
   "outputs": [
    {
     "data": {
      "text/plain": [
       "(1536L, 57L)"
      ]
     },
     "execution_count": 14,
     "metadata": {},
     "output_type": "execute_result"
    }
   ],
   "source": [
    "test.shape"
   ]
  },
  {
   "cell_type": "code",
   "execution_count": 15,
   "metadata": {
    "collapsed": true
   },
   "outputs": [],
   "source": [
    "test_scaled = scaler.transform(test)"
   ]
  },
  {
   "cell_type": "code",
   "execution_count": 16,
   "metadata": {
    "collapsed": false
   },
   "outputs": [
    {
     "data": {
      "text/plain": [
       "array([[-0.34647496, -0.17172773, -0.20135277, ..., -0.09040414,\n",
       "        -0.15774341, -0.10105634],\n",
       "       [-0.34647496, -0.17172773, -0.5696639 , ..., -0.1268504 ,\n",
       "        -0.24003927, -0.46293278],\n",
       "       [-0.34647496, -0.17172773, -0.5696639 , ..., -0.08534216,\n",
       "        -0.18517536, -0.03598206],\n",
       "       ..., \n",
       "       [-0.34647496, -0.17172773, -0.5696639 , ..., -0.10230747,\n",
       "        -0.2217513 , -0.4264277 ],\n",
       "       [ 0.55804996, -0.17172773, -0.24227623, ..., -0.05355907,\n",
       "         0.01142028,  0.38620712],\n",
       "       [-0.34647496, -0.17172773, -0.03765893, ..., -0.11190989,\n",
       "        -0.22632329, -0.37246367]])"
      ]
     },
     "execution_count": 16,
     "metadata": {},
     "output_type": "execute_result"
    }
   ],
   "source": [
    "test_scaled"
   ]
  },
  {
   "cell_type": "code",
   "execution_count": 50,
   "metadata": {
    "collapsed": false
   },
   "outputs": [],
   "source": [
    "overall_res = []\n",
    "idx = range(len(x_scaled))\n",
    "def calc_nn(training_data, test_vec, x):\n",
    "    test_vec_res = []\n",
    "    for train_vec in x_scaled:\n",
    "        # Check L2 distance\n",
    "        test_vec_res.append(np.linalg.norm(train_vec - test_vec))\n",
    "        pos_dict = dict(zip(idx, test_vec_res))\n",
    "        # Sort for top k items\n",
    "        sorted_x = sorted(pos_dict.items(), key=operator.itemgetter(1))\n",
    "    return sorted_x.keys()[:x]"
   ]
  },
  {
   "cell_type": "code",
   "execution_count": null,
   "metadata": {
    "collapsed": true
   },
   "outputs": [],
   "source": [
    "def get_nearest_class_labels(idxes):\n",
    "    "
   ]
  },
  {
   "cell_type": "code",
   "execution_count": 47,
   "metadata": {
    "collapsed": false
   },
   "outputs": [],
   "source": [
    "import operator\n",
    "sorted_x = sorted(pos_dict.items(), key=operator.itemgetter(1))"
   ]
  },
  {
   "cell_type": "code",
   "execution_count": 49,
   "metadata": {
    "collapsed": false
   },
   "outputs": [
    {
     "data": {
      "text/plain": [
       "[(2550, 1.4361068875390453),\n",
       " (2105, 1.4372711846606139),\n",
       " (1994, 1.8220013857352646),\n",
       " (738, 1.9344336253172245),\n",
       " (2769, 1.9698661096871952)]"
      ]
     },
     "execution_count": 49,
     "metadata": {},
     "output_type": "execute_result"
    }
   ],
   "source": [
    "sorted_x[:5]"
   ]
  },
  {
   "cell_type": "code",
   "execution_count": null,
   "metadata": {
    "collapsed": true
   },
   "outputs": [],
   "source": []
  }
 ],
 "metadata": {
  "kernelspec": {
   "display_name": "Python 2",
   "language": "python",
   "name": "python2"
  },
  "language_info": {
   "codemirror_mode": {
    "name": "ipython",
    "version": 2
   },
   "file_extension": ".py",
   "mimetype": "text/x-python",
   "name": "python",
   "nbconvert_exporter": "python",
   "pygments_lexer": "ipython2",
   "version": "2.7.13"
  }
 },
 "nbformat": 4,
 "nbformat_minor": 2
}
